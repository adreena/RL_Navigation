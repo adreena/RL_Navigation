{
 "cells": [
  {
   "cell_type": "markdown",
   "metadata": {},
   "source": [
    "# Navigation\n",
    "\n",
    "---\n",
    "\n",
    "Congratulations for completing the first project of the [Deep Reinforcement Learning Nanodegree](https://www.udacity.com/course/deep-reinforcement-learning-nanodegree--nd893)!  In this notebook, you will learn how to control an agent in a more challenging environment, where it can learn directly from raw pixels!  **Note that this exercise is optional!**\n",
    "\n",
    "### 1. Start the Environment\n",
    "\n",
    "We begin by importing some necessary packages.  If the code cell below returns an error, please revisit the project instructions to double-check that you have installed [Unity ML-Agents](https://github.com/Unity-Technologies/ml-agents/blob/master/docs/Installation.md) and [NumPy](http://www.numpy.org/)."
   ]
  },
  {
   "cell_type": "code",
   "execution_count": 1,
   "metadata": {},
   "outputs": [
    {
     "name": "stderr",
     "output_type": "stream",
     "text": [
      "/home/ubuntu/anaconda3/lib/python3.6/site-packages/matplotlib/__init__.py:1067: UserWarning: Duplicate key in file \"/home/ubuntu/.config/matplotlib/matplotlibrc\", line #2\n",
      "  (fname, cnt))\n",
      "/home/ubuntu/anaconda3/lib/python3.6/site-packages/matplotlib/__init__.py:1067: UserWarning: Duplicate key in file \"/home/ubuntu/.config/matplotlib/matplotlibrc\", line #3\n",
      "  (fname, cnt))\n"
     ]
    }
   ],
   "source": [
    "from unityagents import UnityEnvironment\n",
    "import numpy as np\n",
    "import matplotlib.pyplot as plt\n",
    "%matplotlib inline\n",
    "from torchvision import transforms\n",
    "from torch.autograd import Variable\n",
    "import torchvision.transforms.functional as F\n",
    "from PIL import Image\n",
    "from skimage.transform import resize\n",
    "from collections import deque, namedtuple"
   ]
  },
  {
   "cell_type": "markdown",
   "metadata": {},
   "source": [
    "Next, we will start the environment!  **_Before running the code cell below_**, change the `file_name` parameter to match the location of the Unity environment that you downloaded.\n",
    "\n",
    "- **Mac**: `\"path/to/VisualBanana.app\"`\n",
    "- **Windows** (x86): `\"path/to/VisualBanana_Windows_x86/Banana.exe\"`\n",
    "- **Windows** (x86_64): `\"path/to/VisualBanana_Windows_x86_64/Banana.exe\"`\n",
    "- **Linux** (x86): `\"path/to/VisualBanana_Linux/Banana.x86\"`\n",
    "- **Linux** (x86_64): `\"path/to/VisualBanana_Linux/Banana.x86_64\"`\n",
    "- **Linux** (x86, headless): `\"path/to/VisualBanana_Linux_NoVis/Banana.x86\"`\n",
    "- **Linux** (x86_64, headless): `\"path/to/VisualBanana_Linux_NoVis/Banana.x86_64\"`\n",
    "\n",
    "For instance, if you are using a Mac, then you downloaded `VisualBanana.app`.  If this file is in the same folder as the notebook, then the line below should appear as follows:\n",
    "```\n",
    "env = UnityEnvironment(file_name=\"VisualBanana.app\")\n",
    "```"
   ]
  },
  {
   "cell_type": "code",
   "execution_count": 2,
   "metadata": {},
   "outputs": [
    {
     "name": "stderr",
     "output_type": "stream",
     "text": [
      "INFO:unityagents:\n",
      "'Academy' started successfully!\n",
      "Unity Academy name: Academy\n",
      "        Number of Brains: 1\n",
      "        Number of External Brains : 1\n",
      "        Lesson number : 0\n",
      "        Reset Parameters :\n",
      "\t\t\n",
      "Unity brain name: BananaBrain\n",
      "        Number of Visual Observations (per agent): 1\n",
      "        Vector Observation space type: continuous\n",
      "        Vector Observation space size (per agent): 0\n",
      "        Number of stacked Vector Observation: 1\n",
      "        Vector Action space type: discrete\n",
      "        Vector Action space size (per agent): 4\n",
      "        Vector Action descriptions: , , , \n"
     ]
    }
   ],
   "source": [
    "env = UnityEnvironment(file_name=\"VisualBanana_Linux/Banana.x86_64\")"
   ]
  },
  {
   "cell_type": "markdown",
   "metadata": {},
   "source": [
    "Environments contain **_brains_** which are responsible for deciding the actions of their associated agents. Here we check for the first brain available, and set it as the default brain we will be controlling from Python."
   ]
  },
  {
   "cell_type": "code",
   "execution_count": 3,
   "metadata": {},
   "outputs": [],
   "source": [
    "# get the default brain\n",
    "brain_name = env.brain_names[0]\n",
    "brain = env.brains[brain_name]"
   ]
  },
  {
   "cell_type": "markdown",
   "metadata": {},
   "source": [
    "### 2. Examine the State and Action Spaces\n",
    "\n",
    "The simulation contains a single agent that navigates a large environment.  At each time step, it has four actions at its disposal:\n",
    "- `0` - walk forward \n",
    "- `1` - walk backward\n",
    "- `2` - turn left\n",
    "- `3` - turn right\n",
    "\n",
    "The environment state is an array of raw pixels with shape `(1, 84, 84, 3)`.  *Note that this code differs from the notebook for the project, where we are grabbing **`visual_observations`** (the raw pixels) instead of **`vector_observations`**.* A reward of `+1` is provided for collecting a yellow banana, and a reward of `-1` is provided for collecting a blue banana. \n",
    "\n",
    "Run the code cell below to print some information about the environment."
   ]
  },
  {
   "cell_type": "code",
   "execution_count": 4,
   "metadata": {},
   "outputs": [
    {
     "name": "stdout",
     "output_type": "stream",
     "text": [
      "Number of agents: 1\n",
      "Number of actions: 4\n",
      "States look like:\n"
     ]
    },
    {
     "data": {
      "image/png": "[encoded data removed]",
      "text/plain": [
       "<Figure size 432x288 with 1 Axes>"
      ]
     },
     "metadata": {},
     "output_type": "display_data"
    },
    {
     "name": "stdout",
     "output_type": "stream",
     "text": [
      "States have shape: (1, 84, 84, 3)\n"
     ]
    }
   ],
   "source": [
    "# reset the environment\n",
    "env_info = env.reset(train_mode=True)[brain_name]\n",
    "\n",
    "# number of agents in the environment\n",
    "print('Number of agents:', len(env_info.agents))\n",
    "\n",
    "# number of actions\n",
    "action_size = brain.vector_action_space_size\n",
    "print('Number of actions:', action_size)\n",
    "\n",
    "# examine the state space \n",
    "state = env_info.visual_observations[0]\n",
    "print('States look like:')\n",
    "plt.imshow(np.squeeze(state))\n",
    "plt.show()\n",
    "state_size = state.shape\n",
    "print('States have shape:', state.shape)"
   ]
  },
  {
   "cell_type": "markdown",
   "metadata": {},
   "source": [
    "### 3. Take Random Actions in the Environment\n",
    "\n",
    "In the next code cell, you will learn how to use the Python API to control the agent and receive feedback from the environment.\n",
    "\n",
    "Once this cell is executed, you will watch the agent's performance, if it selects an action (uniformly) at random with each time step.  A window should pop up that allows you to observe the agent, as it moves through the environment.  \n",
    "\n",
    "Of course, you'll have to change the code so that the agent is able to use its experience to gradually choose better actions when interacting with the environment!"
   ]
  },
  {
   "cell_type": "code",
   "execution_count": null,
   "metadata": {},
   "outputs": [],
   "source": [
    "# env_info = env.reset(train_mode=False)[brain_name] # reset the environment\n",
    "# state = env_info.visual_observations[0]            # get the current state\n",
    "# score = 0     \n",
    "# for i in range(2):\n",
    "#     while True:\n",
    "#         action = np.random.randint(action_size)        # select an action\n",
    "#         env_info = env.step(action)[brain_name]        # send the action to the environment\n",
    "#         next_state = env_info.visual_observations[0]   # get the next state\n",
    "#         reward = env_info.rewards[0]                   # get the reward\n",
    "#         done = env_info.local_done[0]                  # see if episode has finished\n",
    "#         score += reward                                # update the score\n",
    "#         state = next_state                             # roll over the state to next time step\n",
    "#         if done:                                       # exit loop if episode finished\n",
    "#             break\n",
    "    \n",
    "# print(\"Score: {}\".format(score))"
   ]
  },
  {
   "cell_type": "markdown",
   "metadata": {},
   "source": [
    "When finished, you can close the environment."
   ]
  },
  {
   "cell_type": "code",
   "execution_count": null,
   "metadata": {},
   "outputs": [],
   "source": [
    "# env.close()"
   ]
  },
  {
   "cell_type": "markdown",
   "metadata": {},
   "source": [
    "### 4. It's Your Turn!\n",
    "\n",
    "Now it's your turn to train your own agent to solve the environment!  When training the environment, set `train_mode=True`, so that the line for resetting the environment looks like the following:\n",
    "```python\n",
    "env_info = env.reset(train_mode=True)[brain_name]\n",
    "```"
   ]
  },
  {
   "cell_type": "code",
   "execution_count": 5,
   "metadata": {},
   "outputs": [
    {
     "name": "stdout",
     "output_type": "stream",
     "text": [
      "Action Size:4, State Size:0\n",
      "loaded cnn network\n"
     ]
    },
    {
     "name": "stderr",
     "output_type": "stream",
     "text": [
      "/home/ubuntu/anaconda3/lib/python3.6/site-packages/skimage/transform/_warps.py:105: UserWarning: The default mode, 'constant', will be changed to 'reflect' in skimage 0.15.\n",
      "  warn(\"The default mode, 'constant', will be changed to 'reflect' in \"\n"
     ]
    },
    {
     "name": "stdout",
     "output_type": "stream",
     "text": [
      "Episode: 100\tAverage Score: 0.14\n",
      "Episode: 200\tAverage Score: 0.66\n",
      "Episode: 300\tAverage Score: 1.97\n",
      "Episode: 400\tAverage Score: 2.35\n",
      "Episode: 500\tAverage Score: 3.29\n",
      "Episode: 600\tAverage Score: 4.37\n",
      "Episode: 700\tAverage Score: 5.35\n",
      "Episode: 800\tAverage Score: 5.23\n",
      "Episode: 900\tAverage Score: 4.66\n",
      "Episode: 1000\tAverage Score: 6.21\n",
      "Episode: 1100\tAverage Score: 6.34\n",
      "Episode: 1193\tAverage Score: 7.07"
     ]
    }
   ],
   "source": [
    "from dqn_agent import Agent\n",
    "import torch\n",
    "from collections import deque\n",
    "from skimage.transform import resize\n",
    "device = torch.device(\"cuda:0\" if torch.cuda.is_available() else \"cpu\")\n",
    "\n",
    "image_size = 28\n",
    "def process_state(x):\n",
    "    x = np.squeeze(x)\n",
    "    x_resize = resize(x, (image_size,image_size,3), anti_aliasing=True)\n",
    "    x_modified = Variable(torch.from_numpy(x_resize).float().to(device).view(3,image_size,image_size))\n",
    "    return x_modified\n",
    "\n",
    "def process_stack(frames):\n",
    "    frames_list = list(frames)\n",
    "    torch_stack = torch.stack(frames_list).unsqueeze(dim=0)\n",
    "    torch_stack = torch_stack.view(torch_stack.size(0),torch_stack.size(2), torch_stack.size(1), torch_stack.size(3), torch_stack.size(4) )\n",
    "    return torch_stack\n",
    "\n",
    "\n",
    "state_copy= []\n",
    "def banana_dqn(episodes_num=5000, epsilon_start=1.0, epsilon_min=0.01, epsilon_decay=0.995, seed =0):\n",
    "    scores = []\n",
    "    score_window = deque(maxlen=100)\n",
    "    epsilon = epsilon_start\n",
    "    max_score = 7.0\n",
    "    count = 5\n",
    "    for episode in range(1, episodes_num+1):\n",
    "        # reset the environment\n",
    "        env_info = env.reset(train_mode=True)[brain_name] # reset the environment\n",
    "        state = env_info.visual_observations[0]            # get the current state\n",
    "        score = 0\n",
    "        stack_ready = False\n",
    "        frame_stack= deque()\n",
    "        stack_count = 0\n",
    "        stack_size = 3\n",
    "        is_state_processed = False\n",
    "        while True:\n",
    "#             state = resize(state, (state.shape[0],32, 32, 3), anti_aliasing=True)\n",
    "            if not is_state_processed: \n",
    "                state = process_state(state)\n",
    "            if len(frame_stack) < stack_size:\n",
    "                \n",
    "                for i in range(stack_size):\n",
    "                    frame_stack.append(state)\n",
    "                # for the first items just copy the times all at once\n",
    "            else:\n",
    "                frame_stack.popleft()\n",
    "                frame_stack.append(state)\n",
    "            processed_stack = process_stack(frame_stack)\n",
    "            action = agent.act(processed_stack, epsilon)        # select an action\n",
    "            env_info = env.step(action)[brain_name]        # send the action to the environment\n",
    "            next_state = env_info.visual_observations[0]   # get the next state\n",
    "            reward = env_info.rewards[0]                   # get the reward\n",
    "            done = env_info.local_done[0]                  # see if episode has finished\n",
    "            score += reward                                # update the score\n",
    "            next_state = process_state(next_state) # resize(next_state, (state.shape[0],32, 32, 3), anti_aliasing=True)\n",
    "            \n",
    "            next_fram_stack = frame_stack.copy()\n",
    "            next_fram_stack.popleft()\n",
    "            next_fram_stack.append(next_state)\n",
    "            \n",
    "            agent.step(state=processed_stack, action=action, reward=reward, next_state=process_stack(next_fram_stack), done=done, stack_size=stack_size)\n",
    "            \n",
    "            state = next_state \n",
    "            is_state_processed = True\n",
    "            \n",
    "            \n",
    "            if done:\n",
    "                # exit loop if episode finished\n",
    "                break\n",
    "            state_copy.append((state, action))\n",
    "            count -= 1\n",
    "            \n",
    "        score_window.append(score)\n",
    "        scores.append(score)\n",
    "        epsilon = max(epsilon_min, epsilon*epsilon_decay)\n",
    "\n",
    "        print('\\rEpisode: {}\\tAverage Score: {:.2f}'.format(episode, np.mean(score_window)), end=\"\")\n",
    "        if episode % 100 == 0:\n",
    "            print('\\rEpisode: {}\\tAverage Score: {:.2f}'.format(episode, np.mean(score_window)))\n",
    "        if np.mean(score_window)>= max_score:\n",
    "            torch.save(agent.QN_local.state_dict(), 'checkpoint_pixels.pth')\n",
    "            break\n",
    "        \n",
    "    return scores\n",
    "\n",
    "seed = 0\n",
    "env_info = env.reset(train_mode=True)[brain_name]\n",
    "action_size = brain.vector_action_space_size\n",
    "state_size = len(env_info.vector_observations[0])\n",
    "print('Action Size:{}, State Size:{}'.format(action_size, state_size))\n",
    "agent = Agent(state_size, action_size, seed = seed, training = True, pixels = True, lr=0.001)\n",
    "scores = banana_dqn(seed = seed)\n",
    "torch.save(agent.QN_local.state_dict(), 'checkpoint_pixels.pth')"
   ]
  },
  {
   "cell_type": "code",
   "execution_count": 7,
   "metadata": {},
   "outputs": [
    {
     "data": {
      "image/png": "[encoded data removed]",
      "text/plain": [
       "<Figure size 432x288 with 1 Axes>"
      ]
     },
     "metadata": {},
     "output_type": "display_data"
    }
   ],
   "source": [
    "fig = plt.figure()\n",
    "ax = fig.add_subplot(111)\n",
    "plt.plot(np.arange(len(scores)),scores)\n",
    "plt.xlabel('Episode ')\n",
    "plt.ylabel('Score')\n",
    "plt.show()"
   ]
  },
  {
   "cell_type": "code",
   "execution_count": null,
   "metadata": {},
   "outputs": [],
   "source": [
    "# Testing network\n",
    "\n",
    "# import torch\n",
    "# import torch.nn as nn\n",
    "# import torch.nn.functional as Fun\n",
    "# from torchvision import transforms\n",
    "# from collections import OrderedDict\n",
    "\n",
    "# class QNetwork(nn.Module):\n",
    "#     def __init__(self, state_size, action_size, seed, training ):\n",
    "#         super(QNetwork, self).__init__()\n",
    "\n",
    "#         self.c1=nn.Conv3d(in_channels = 3,  out_channels=10, kernel_size=(1,5,5) , stride=1)\n",
    "#         self.r1 = nn.ReLU()\n",
    "#         self.max1 = nn.MaxPool3d((1,2,2))\n",
    "        \n",
    "#         # (32-5+ 0)/1 + 1 -> 28x28x10 -> 14x14x10\n",
    "#         self.c2 = nn.Conv3d(in_channels=10, out_channels=32, kernel_size=(1,5,5) , stride=1)\n",
    "#         self.r2 = nn.ReLU()\n",
    "#         self.max2 = nn.MaxPool3d((1,2,2))\n",
    "            \n",
    "#         # 14-5 +1 -> 5x5x32 \n",
    "#         self.fc4 = nn.Linear(5*5*32*3, action_size)\n",
    "# #         self.r4 = nn.ReLU()\n",
    "# #         self.fc5 = nn.Linear(84, action_size)\n",
    "    \n",
    "#     def forward(self, img_stack):\n",
    "#         print('-',img_stack.size())\n",
    "#         output = self.c1(img_stack)\n",
    "        \n",
    "#         output = self.r1(output)\n",
    "#         output = self.max1(output)\n",
    "#         print('*',output.size())\n",
    "        \n",
    "#         output = self.c2(output)\n",
    "#         output = self.r2(output)\n",
    "#         output = self.max2(output)\n",
    "#         print('**',output.size())\n",
    "        \n",
    "#         output = output.view(output.size(0), -1)\n",
    "#         print('***', output.size())\n",
    "#         output = self.fc4(output)\n",
    "#         return output"
   ]
  },
  {
   "cell_type": "code",
   "execution_count": null,
   "metadata": {},
   "outputs": [],
   "source": [
    "\n"
   ]
  },
  {
   "cell_type": "code",
   "execution_count": 6,
   "metadata": {},
   "outputs": [],
   "source": [
    "# Testing stack\n",
    "\n",
    "# # plt.imshow(np.squeeze(state_resize), cmap='gray')\n",
    "# # plt.show()\n",
    "\n",
    "# q = QNetwork(state_size = 0, action_size= 4, seed = 0, training= True)\n",
    "\n",
    "# # model_params = list(q.parameters())\n",
    "# # model_params_len = len(model_params)\n",
    "# # for i in range(model_params_len):\n",
    "# #     print(model_params[i].size())\n",
    "    \n",
    "    \n",
    "# # transform=torchvision.transforms.Compose([\n",
    "# #                        Stack()]))\n",
    "\n",
    "# frame_stack= []\n",
    "# for i in range(3):\n",
    "#     env_info = env.reset(train_mode=True)[brain_name] # reset the environment\n",
    "#     state = np.squeeze(env_info.visual_observations[0])\n",
    "#     print(state.shape)\n",
    "#     state_resize = resize(state, (32,32,3), anti_aliasing=True)\n",
    "#     state_modified = Variable(torch.from_numpy(state_resize).float().to('cpu').view(3,32,32))\n",
    "#     frame_stack.append(state_modified)\n",
    "\n",
    "# np_stack = torch.stack(frame_stack).unsqueeze(dim=0)\n",
    "# print(np_stack.shape)\n",
    "# np_stack = np_stack.view(np_stack.size(0),np_stack.size(2), np_stack.size(1), np_stack.size(3), np_stack.size(4) )\n",
    "# print(np_stack.shape)\n",
    "# q.eval()\n",
    "# action = q(np_stack)\n",
    "# q.train()\n",
    "# print(len(action))\n",
    "# action_q = int(np.argmax(action[-1].cpu().data.numpy()))\n",
    "# action_picked = action_q\n",
    "# print(action_picked)\n",
    "    \n",
    "# #     next_state = env_info.visual_observations[0]   # get the next state\n",
    "# #     reward = env_info.rewards[0]                   # get the reward\n",
    "# #     done = env_info.local_done[0] \n",
    "\n",
    "#        # select an action\n",
    "# # env_info = env.step(action_picked)[brain_name]        # send the action to the environment\n",
    "#                  # see if episode has finished\n",
    "\n",
    "# # see if episode has finished\n",
    "# # next_state_resize = resize(next_state, (1, 64, 64,3), anti_aliasing=True)\n",
    "\n",
    "# # plt.imshow(np.squeeze(state_resize), cmap='gray')\n",
    "# # plt.show()\n",
    "\n",
    "# # plt.imshow(np.squeeze(next_state_resize), cmap='gray')\n",
    "# # plt.show()"
   ]
  },
  {
   "cell_type": "code",
   "execution_count": null,
   "metadata": {},
   "outputs": [],
   "source": []
  }
 ],
 "metadata": {
  "kernelspec": {
   "display_name": "Python 3",
   "language": "python",
   "name": "python3"
  },
  "language_info": {
   "codemirror_mode": {
    "name": "ipython",
    "version": 3
   },
   "file_extension": ".py",
   "mimetype": "text/x-python",
   "name": "python",
   "nbconvert_exporter": "python",
   "pygments_lexer": "ipython3",
   "version": "3.6.4"
  }
 },
 "nbformat": 4,
 "nbformat_minor": 2
}
